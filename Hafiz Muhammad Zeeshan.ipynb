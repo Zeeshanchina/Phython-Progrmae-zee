{
 "cells": [
  {
   "cell_type": "code",
   "execution_count": 1,
   "id": "8afe7845",
   "metadata": {},
   "outputs": [
    {
     "name": "stdout",
     "output_type": "stream",
     "text": [
      "Twinkle twinkle little star,\n",
      "          How I wounder what you are!\n",
      "                  up above the world so high,\n",
      "                   Like a diamond in the sky\n",
      "         Twinkle, twinkle ,little star,\n",
      "                    How I wounder what you are\n"
     ]
    }
   ],
   "source": [
    "\n",
    "     print('''Twinkle twinkle little star,\n",
    "               How I wounder what you are!\n",
    "                       up above the world so high,\n",
    "                        Like a diamond in the sky\n",
    "              Twinkle, twinkle ,little star,\n",
    "                         How I wounder what you are'''\n",
    ");   "
   ]
  },
  {
   "cell_type": "code",
   "execution_count": 20,
   "id": "c2816dc6",
   "metadata": {},
   "outputs": [
    {
     "name": "stdout",
     "output_type": "stream",
     "text": [
      "Enter the value125\n",
      "Enter the value580\n",
      "705.0\n"
     ]
    }
   ],
   "source": [
    "value1 = float(input(\"Enter the value\"));\n",
    "value2 = float(input(\"Enter the value\"));\n",
    "print(value1+value2);"
   ]
  },
  {
   "cell_type": "code",
   "execution_count": 22,
   "id": "c0b22d55",
   "metadata": {},
   "outputs": [
    {
     "name": "stdout",
     "output_type": "stream",
     "text": [
      "Enter any value15.5\n",
      "754.7676350249478\n"
     ]
    }
   ],
   "source": [
    "#Area of the circle\n",
    "import math\n",
    "r = float(input(\"Enter any value\"));\n",
    "pi = math.pi;\n",
    "\n",
    "print(pi*r*r);"
   ]
  },
  {
   "cell_type": "code",
   "execution_count": 18,
   "id": "bed39059",
   "metadata": {},
   "outputs": [
    {
     "name": "stdout",
     "output_type": "stream",
     "text": [
      "3.9.7 (default, Sep 16 2021, 16:59:28) [MSC v.1916 64 bit (AMD64)]\n"
     ]
    }
   ],
   "source": [
    "import sys; \n",
    "print(sys.version);\n"
   ]
  },
  {
   "cell_type": "code",
   "execution_count": 17,
   "id": "570988f5",
   "metadata": {},
   "outputs": [
    {
     "name": "stdout",
     "output_type": "stream",
     "text": [
      "21-12-29 05:04:43\n"
     ]
    }
   ],
   "source": [
    "#how to print date time\n",
    "import datetime;\n",
    "now = datetime.datetime.now();\n",
    "print(now.strftime(\"%y-%m-%d %H:%M:%S\"));"
   ]
  },
  {
   "cell_type": "code",
   "execution_count": 21,
   "id": "d67992d3",
   "metadata": {},
   "outputs": [
    {
     "name": "stdout",
     "output_type": "stream",
     "text": [
      "First nameHAfiz Muhammad\n",
      "Last nameZeeshan\n",
      "HAfiz Muhammad Zeeshan\n"
     ]
    }
   ],
   "source": [
    "x = input(\"First name\");\n",
    "y = input(\"Last name\");\n",
    "print(x+\" \"+y);"
   ]
  },
  {
   "cell_type": "code",
   "execution_count": null,
   "id": "1bb3fc76",
   "metadata": {},
   "outputs": [],
   "source": []
  }
 ],
 "metadata": {
  "kernelspec": {
   "display_name": "Python 3 (ipykernel)",
   "language": "python",
   "name": "python3"
  },
  "language_info": {
   "codemirror_mode": {
    "name": "ipython",
    "version": 3
   },
   "file_extension": ".py",
   "mimetype": "text/x-python",
   "name": "python",
   "nbconvert_exporter": "python",
   "pygments_lexer": "ipython3",
   "version": "3.9.7"
  }
 },
 "nbformat": 4,
 "nbformat_minor": 5
}
