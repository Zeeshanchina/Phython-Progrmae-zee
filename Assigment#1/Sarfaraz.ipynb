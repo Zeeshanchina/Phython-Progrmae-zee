{
 "cells": [
  {
   "cell_type": "code",
   "execution_count": 21,
   "id": "2ca5e110",
   "metadata": {},
   "outputs": [
    {
     "name": "stdout",
     "output_type": "stream",
     "text": [
      "Twinkle, twinkle, little star,\n",
      "        How I wounder what you are!\n",
      "                Up above the world so high,\n",
      "                Like a diamond in the sky\n",
      "        Twinkle, twinkle, little star,\n",
      "                How I wounder what you are\n"
     ]
    }
   ],
   "source": [
    "\n",
    "\n",
    "print('''Twinkle, twinkle, little star,\n",
    "        How I wounder what you are!\n",
    "                Up above the world so high,\n",
    "                Like a diamond in the sky\n",
    "        Twinkle, twinkle, little star,\n",
    "                How I wounder what you are'''\n",
    ");"
   ]
  },
  {
   "cell_type": "code",
   "execution_count": 23,
   "id": "e6df9c11",
   "metadata": {},
   "outputs": [
    {
     "name": "stdout",
     "output_type": "stream",
     "text": [
      "Enter your first nameAsad\n",
      "Enter your last nameAli\n",
      "Asad Ali\n"
     ]
    }
   ],
   "source": [
    "x = input(\"Enter your first name\");\n",
    "y = input(\"Enter your last name\");\n",
    "print(x+\" \"+y);"
   ]
  },
  {
   "cell_type": "code",
   "execution_count": 28,
   "id": "60a51933",
   "metadata": {},
   "outputs": [
    {
     "name": "stdout",
     "output_type": "stream",
     "text": [
      "Enter radius10\n",
      "Area of circle is :\n",
      "314.2\n"
     ]
    }
   ],
   "source": [
    "#Area Of Circle\n",
    "radius = float(input(\"Enter radius\"));\n",
    "\n",
    "\n",
    "pi = 3.142;\n",
    "print(\"Area of circle is :\");\n",
    "print(float(pi)*radius*radius);\n"
   ]
  },
  {
   "cell_type": "code",
   "execution_count": 29,
   "id": "47f2f32f",
   "metadata": {},
   "outputs": [
    {
     "name": "stdout",
     "output_type": "stream",
     "text": [
      "Enter first value10\n",
      "Enter  second valu10\n",
      "20.0\n"
     ]
    }
   ],
   "source": [
    "num1 = float(input(\"Enter first value\"));\n",
    "num2 = float(input(\"Enter  second valu\"));\n",
    "print(num1+num2);"
   ]
  },
  {
   "cell_type": "code",
   "execution_count": 30,
   "id": "26792fe9",
   "metadata": {},
   "outputs": [
    {
     "name": "stdout",
     "output_type": "stream",
     "text": [
      "3.9.7 (default, Sep 16 2021, 16:59:28) [MSC v.1916 64 bit (AMD64)]\n"
     ]
    }
   ],
   "source": [
    "import sys; \n",
    "print(sys.version);"
   ]
  },
  {
   "cell_type": "code",
   "execution_count": 33,
   "id": "c34f5243",
   "metadata": {},
   "outputs": [
    {
     "name": "stdout",
     "output_type": "stream",
     "text": [
      "21-12-29 05:00:47\n"
     ]
    }
   ],
   "source": [
    "#Current DAtetime Code:\n",
    "\n",
    "import datetime\n",
    "currentdatetime = datetime.datetime.now()\n",
    "print(currentdatetime.now().strftime(\"%y-%m-%d %H:%M:%S\"))"
   ]
  },
  {
   "cell_type": "code",
   "execution_count": null,
   "id": "b965e102",
   "metadata": {},
   "outputs": [],
   "source": []
  }
 ],
 "metadata": {
  "kernelspec": {
   "display_name": "Python 3 (ipykernel)",
   "language": "python",
   "name": "python3"
  },
  "language_info": {
   "codemirror_mode": {
    "name": "ipython",
    "version": 3
   },
   "file_extension": ".py",
   "mimetype": "text/x-python",
   "name": "python",
   "nbconvert_exporter": "python",
   "pygments_lexer": "ipython3",
   "version": "3.9.7"
  }
 },
 "nbformat": 4,
 "nbformat_minor": 5
}
